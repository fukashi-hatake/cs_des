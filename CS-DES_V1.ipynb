{
 "cells": [
  {
   "cell_type": "markdown",
   "id": "d755b54b-2d0a-4198-aa73-9814d735ad76",
   "metadata": {},
   "source": [
    "## Class-Specific Dynamic Ensemble Learning (CS-DES)"
   ]
  },
  {
   "cell_type": "code",
   "execution_count": 1,
   "id": "6fe2891f-581f-46b9-8faa-579b4c3a2792",
   "metadata": {},
   "outputs": [],
   "source": [
    "import numpy as np\n",
    "from sklearn.neighbors import NearestNeighbors \n",
    "from sklearn.metrics import accuracy_score\n",
    "from sklearn.datasets import load_iris\n",
    "\n",
    "from sklearn.ensemble import GradientBoostingClassifier\n",
    "from sklearn.ensemble import AdaBoostClassifier\n",
    "from sklearn.ensemble import RandomForestClassifier\n",
    "from xgboost import XGBClassifier\n",
    "from sklearn.neighbors import KNeighborsClassifier\n",
    "from sklearn.linear_model import LogisticRegression\n",
    "from sklearn.tree import DecisionTreeClassifier\n",
    "from sklearn.svm import SVC\n",
    "from lightgbm import LGBMClassifier\n",
    "from sklearn.neural_network import MLPClassifier\n",
    "\n",
    "from sklearn.model_selection import train_test_split\n",
    "\n",
    "from sklearn.metrics import accuracy_score\n",
    "\n",
    "from tqdm import tqdm\n",
    "\n",
    "import warnings\n",
    "warnings.filterwarnings('ignore')"
   ]
  },
  {
   "cell_type": "code",
   "execution_count": 2,
   "id": "a1336bbb-3fb4-4d46-87ce-55406b76dfa9",
   "metadata": {},
   "outputs": [
    {
     "data": {
      "text/plain": [
       "['GAMETES_Epistasis_2_Way_1000atts_0.4H_EDM_1_EDM_1_1',\n",
       " 'GAMETES_Epistasis_2_Way_20atts_0.1H_EDM_1_1',\n",
       " 'GAMETES_Epistasis_2_Way_20atts_0.4H_EDM_1_1',\n",
       " 'GAMETES_Epistasis_3_Way_20atts_0.2H_EDM_1_1',\n",
       " 'GAMETES_Heterogeneity_20atts_1600_Het_0.4_0.2_50_EDM_2_001',\n",
       " 'GAMETES_Heterogeneity_20atts_1600_Het_0.4_0.2_75_EDM_2_001',\n",
       " 'Hill_Valley_with_noise',\n",
       " 'Hill_Valley_without_noise',\n",
       " 'adult',\n",
       " 'agaricus_lepiota',\n",
       " 'allbp',\n",
       " 'allhyper',\n",
       " 'allhypo',\n",
       " 'allrep',\n",
       " 'analcatdata_aids',\n",
       " 'analcatdata_asbestos',\n",
       " 'analcatdata_authorship',\n",
       " 'analcatdata_bankruptcy',\n",
       " 'analcatdata_boxing1',\n",
       " 'analcatdata_boxing2',\n",
       " 'analcatdata_creditscore',\n",
       " 'analcatdata_cyyoung8092',\n",
       " 'analcatdata_cyyoung9302',\n",
       " 'analcatdata_dmft',\n",
       " 'analcatdata_fraud',\n",
       " 'analcatdata_germangss',\n",
       " 'analcatdata_happiness',\n",
       " 'analcatdata_japansolvent',\n",
       " 'analcatdata_lawsuit',\n",
       " 'ann_thyroid',\n",
       " 'appendicitis',\n",
       " 'australian',\n",
       " 'auto',\n",
       " 'backache',\n",
       " 'balance_scale',\n",
       " 'biomed',\n",
       " 'breast',\n",
       " 'breast_cancer',\n",
       " 'breast_cancer_wisconsin',\n",
       " 'breast_w',\n",
       " 'buggyCrx',\n",
       " 'bupa',\n",
       " 'calendarDOW',\n",
       " 'car',\n",
       " 'car_evaluation',\n",
       " 'cars',\n",
       " 'chess',\n",
       " 'churn',\n",
       " 'clean1',\n",
       " 'clean2',\n",
       " 'cleve',\n",
       " 'cleveland',\n",
       " 'cleveland_nominal',\n",
       " 'cloud',\n",
       " 'cmc',\n",
       " 'coil2000',\n",
       " 'colic',\n",
       " 'collins',\n",
       " 'confidence',\n",
       " 'connect_4',\n",
       " 'contraceptive',\n",
       " 'corral',\n",
       " 'credit_a',\n",
       " 'credit_g',\n",
       " 'crx',\n",
       " 'dermatology',\n",
       " 'diabetes',\n",
       " 'dis',\n",
       " 'dna',\n",
       " 'ecoli',\n",
       " 'fars',\n",
       " 'flags',\n",
       " 'flare',\n",
       " 'german',\n",
       " 'glass',\n",
       " 'glass2',\n",
       " 'haberman',\n",
       " 'hayes_roth',\n",
       " 'heart_c',\n",
       " 'heart_h',\n",
       " 'heart_statlog',\n",
       " 'hepatitis',\n",
       " 'horse_colic',\n",
       " 'house_votes_84',\n",
       " 'hungarian',\n",
       " 'hypothyroid',\n",
       " 'ionosphere',\n",
       " 'iris',\n",
       " 'irish',\n",
       " 'kddcup',\n",
       " 'kr_vs_kp',\n",
       " 'krkopt',\n",
       " 'labor',\n",
       " 'led24',\n",
       " 'led7',\n",
       " 'letter',\n",
       " 'lupus',\n",
       " 'lymphography',\n",
       " 'magic',\n",
       " 'mfeat_factors',\n",
       " 'mfeat_fourier',\n",
       " 'mfeat_karhunen',\n",
       " 'mfeat_morphological',\n",
       " 'mfeat_pixel',\n",
       " 'mfeat_zernike',\n",
       " 'mnist',\n",
       " 'mofn_3_7_10',\n",
       " 'molecular_biology_promoters',\n",
       " 'monk1',\n",
       " 'monk2',\n",
       " 'monk3',\n",
       " 'movement_libras',\n",
       " 'mushroom',\n",
       " 'mux6',\n",
       " 'new_thyroid',\n",
       " 'nursery',\n",
       " 'optdigits',\n",
       " 'page_blocks',\n",
       " 'parity5',\n",
       " 'parity5+5',\n",
       " 'pendigits',\n",
       " 'penguins',\n",
       " 'phoneme',\n",
       " 'pima',\n",
       " 'poker',\n",
       " 'postoperative_patient_data',\n",
       " 'prnn_crabs',\n",
       " 'prnn_fglass',\n",
       " 'prnn_synth',\n",
       " 'profb',\n",
       " 'ring',\n",
       " 'saheart',\n",
       " 'satimage',\n",
       " 'schizo',\n",
       " 'segmentation',\n",
       " 'shuttle',\n",
       " 'sleep',\n",
       " 'solar_flare_1',\n",
       " 'solar_flare_2',\n",
       " 'sonar',\n",
       " 'soybean',\n",
       " 'spambase',\n",
       " 'spect',\n",
       " 'spectf',\n",
       " 'splice',\n",
       " 'tae',\n",
       " 'texture',\n",
       " 'threeOf9',\n",
       " 'tic_tac_toe',\n",
       " 'tokyo1',\n",
       " 'twonorm',\n",
       " 'vehicle',\n",
       " 'vote',\n",
       " 'vowel',\n",
       " 'waveform_21',\n",
       " 'waveform_40',\n",
       " 'wdbc',\n",
       " 'wine_quality_red',\n",
       " 'wine_quality_white',\n",
       " 'wine_recognition',\n",
       " 'xd6',\n",
       " 'yeast']"
      ]
     },
     "execution_count": 2,
     "metadata": {},
     "output_type": "execute_result"
    }
   ],
   "source": [
    "from pmlb import classification_dataset_names\n",
    "\n",
    "classification_dataset_names"
   ]
  },
  {
   "cell_type": "code",
   "execution_count": 3,
   "id": "d6fed61d-5ca1-4d4e-b7d9-9ac6c5412543",
   "metadata": {},
   "outputs": [],
   "source": [
    "from pmlb import fetch_data\n",
    "from sklearn.preprocessing import LabelEncoder  \n",
    "\n",
    "# Returns NumPy arrays\n",
    "data = fetch_data('led24', return_X_y=False, local_cache_dir='./')\n",
    "\n",
    "X = data.drop(['target'], axis=1) \n",
    "y = data.target\n",
    "\n",
    "le = LabelEncoder()\n",
    "y = le.fit_transform(y)"
   ]
  },
  {
   "cell_type": "code",
   "execution_count": 4,
   "id": "fba5f959-5c0b-417f-8abd-6ae1156dc773",
   "metadata": {},
   "outputs": [],
   "source": [
    "X_train, X_test, y_train, y_test = train_test_split(X, y, test_size=0.25, random_state=99)   \n",
    "X_train, X_dsel, y_train, y_dsel = train_test_split(X_train, y_train, test_size=0.30, random_state=42)      "
   ]
  },
  {
   "cell_type": "code",
   "execution_count": 5,
   "id": "09b26c01-4631-406e-9598-3801836f2589",
   "metadata": {},
   "outputs": [
    {
     "data": {
      "text/plain": [
       "(array([6, 0, 4, 2, 7, 3, 5, 1, 9, 8]), 10)"
      ]
     },
     "execution_count": 5,
     "metadata": {},
     "output_type": "execute_result"
    }
   ],
   "source": [
    "train_data = X_train[:]\n",
    "train_data['target'] = y_train \n",
    "\n",
    "n_classes = train_data.target.nunique()\n",
    "\n",
    "train_data.target.unique(), n_classes"
   ]
  },
  {
   "cell_type": "markdown",
   "id": "9c007d23-2a07-4206-9ba6-7d90d89ac2a5",
   "metadata": {},
   "source": [
    "### Pool of classifiers "
   ]
  },
  {
   "cell_type": "code",
   "execution_count": 6,
   "id": "b73d123a-96b4-43fd-a013-07b3c777db74",
   "metadata": {},
   "outputs": [],
   "source": [
    "from collections import namedtuple\n",
    "from random import choices, randint, randrange, random, sample\n",
    "from typing import List, Callable, Tuple \n",
    "from functools import partial\n",
    "\n",
    "\n",
    "BaseClassifier = namedtuple('BaseClassifier', ['name', 'model', 'classes']) \n",
    "\n",
    "pool = [\n",
    "  \n",
    "    BaseClassifier('LR', LogisticRegression(random_state=42),                            [0, 1, 2, 3, 4, 5, 6, 7, 8, 9]),\n",
    "    BaseClassifier('RF', RandomForestClassifier(random_state=42),                        [0, 1, 2, 3, 4, 5, 6, 7, 8, 9]),\n",
    "    \n",
    "    BaseClassifier('RF', RandomForestClassifier(random_state=42),                        [0, 4, 5, 6, 8, 9]), \n",
    "    BaseClassifier('RF', RandomForestClassifier(random_state=42),                        [0, 2, 3, 8]),\n",
    "    BaseClassifier('RF', RandomForestClassifier(random_state=42),                        [1, 3, 4, 7, 9]),\n",
    "    BaseClassifier('RF', RandomForestClassifier(random_state=42),                        [0, 2, 3, 5, 8]),\n",
    "    BaseClassifier('RF', RandomForestClassifier(random_state=42),                        [0, 1, 2, 3, 4, 5, 7, 9]), \n",
    "    BaseClassifier('RF', RandomForestClassifier(random_state=42),                        [0, 1, 3, 7, 8, 9]),\n",
    "    BaseClassifier('RF', RandomForestClassifier(random_state=42),                        [2, 4, 5, 6, 7, 8]), \n",
    "    BaseClassifier('RF', RandomForestClassifier(random_state=42),                        [3, 5, 6, 9]), \n",
    "    BaseClassifier('RF', RandomForestClassifier(random_state=42),                        [0, 2, 3, 6, 8, 9]), \n",
    "    \n",
    "]"
   ]
  },
  {
   "cell_type": "code",
   "execution_count": 7,
   "id": "6a08b5d6-90dd-47c6-a76c-1c35a531211f",
   "metadata": {},
   "outputs": [],
   "source": [
    "def train(train_data, pool): \n",
    "    for bc in pool: \n",
    "        partial_train_data = train_data[train_data.target.isin(bc.classes)] \n",
    "        X = partial_train_data.drop(['target'], axis=1) \n",
    "        y = partial_train_data['target'] \n",
    "\n",
    "        bc.model.fit(X, y)\n",
    "    return pool "
   ]
  },
  {
   "cell_type": "code",
   "execution_count": 8,
   "id": "d8d5aa68-77a6-4ee2-9164-24aa0338ad99",
   "metadata": {},
   "outputs": [],
   "source": [
    "pool = train(train_data, pool)"
   ]
  },
  {
   "cell_type": "markdown",
   "id": "ab7a3f77-f787-44c8-a2e3-d439017b19cb",
   "metadata": {},
   "source": [
    "### Get RoC "
   ]
  },
  {
   "cell_type": "code",
   "execution_count": 9,
   "id": "28ef8b46-3b08-4502-aad5-3a66963edc5b",
   "metadata": {},
   "outputs": [],
   "source": [
    "k = 10\n",
    "nbrs = NearestNeighbors(n_neighbors=k, metric='minkowski').fit(X_dsel)  "
   ]
  },
  {
   "cell_type": "code",
   "execution_count": 10,
   "id": "3ddd9f7c-befe-44d9-a257-2604d7f88c4d",
   "metadata": {},
   "outputs": [],
   "source": [
    "def get_region_of_competence(nbrs, query): \n",
    "    indices = nbrs.kneighbors(query, return_distance=False)\n",
    "    roc = X_dsel.iloc[indices[0]]\n",
    "    roc_labels = y_dsel[indices[0]]\n",
    "\n",
    "    print(indices)\n",
    "\n",
    "    return roc, roc_labels "
   ]
  },
  {
   "cell_type": "code",
   "execution_count": 11,
   "id": "66c04606-9ab6-457a-a837-1fc98aa9e816",
   "metadata": {},
   "outputs": [
    {
     "name": "stdout",
     "output_type": "stream",
     "text": [
      "[[712 607 113 103 271 319 263 651 593 578]]\n"
     ]
    },
    {
     "data": {
      "text/plain": [
       "3"
      ]
     },
     "execution_count": 11,
     "metadata": {},
     "output_type": "execute_result"
    }
   ],
   "source": [
    "index = 14\n",
    "test_sample = X_test.iloc[[index]]\n",
    "\n",
    "roc, roc_labels = get_region_of_competence(nbrs, test_sample)\n",
    "\n",
    "y_test[index]"
   ]
  },
  {
   "cell_type": "code",
   "execution_count": 12,
   "id": "8c4549de-237d-4296-b817-5928bb815914",
   "metadata": {},
   "outputs": [
    {
     "data": {
      "text/plain": [
       "False"
      ]
     },
     "execution_count": 12,
     "metadata": {},
     "output_type": "execute_result"
    }
   ],
   "source": [
    "unique_labels = list(np.unique(roc_labels)) \n",
    "\n",
    "np.isin(unique_labels, [0, 1, 2, 3, 4, 5, 6, 7, 9]).all()"
   ]
  },
  {
   "cell_type": "code",
   "execution_count": 13,
   "id": "effe2e94-1993-4f2e-b111-baa6041c79e3",
   "metadata": {},
   "outputs": [
    {
     "data": {
      "text/plain": [
       "[0, 2, 3, 6, 8, 9]"
      ]
     },
     "execution_count": 13,
     "metadata": {},
     "output_type": "execute_result"
    }
   ],
   "source": [
    "unique_labels"
   ]
  },
  {
   "cell_type": "code",
   "execution_count": 14,
   "id": "e1d81ce7-f568-4492-a827-3d5ebdb19787",
   "metadata": {},
   "outputs": [
    {
     "data": {
      "text/plain": [
       "array([2, 0, 8, 2, 9, 3, 3, 6, 3, 8])"
      ]
     },
     "execution_count": 14,
     "metadata": {},
     "output_type": "execute_result"
    }
   ],
   "source": [
    "roc_labels"
   ]
  },
  {
   "cell_type": "code",
   "execution_count": 15,
   "id": "d8a57427-8f37-4aa4-beb9-66f64f08abd1",
   "metadata": {},
   "outputs": [
    {
     "name": "stdout",
     "output_type": "stream",
     "text": [
      "[6 0 8 2 9 3 3 6 3 8] 0.9 [2] 0.45 [0, 1, 2, 3, 4, 5, 6, 7, 8, 9]\n",
      "[3 0 8 2 9 3 3 6 3 8] 0.9 [3] 0.39 [0, 1, 2, 3, 4, 5, 6, 7, 8, 9]\n",
      "[3 0 8 2 9 3 3 3 3 8] 0.8 [3] 0.47 [0, 2, 3, 6, 8, 9]\n"
     ]
    }
   ],
   "source": [
    "votes = {}\n",
    "\n",
    "for i in range(n_classes): \n",
    "    votes[i] = 0 \n",
    "\n",
    "for bc in pool:\n",
    "    roc_unique_labels = list(np.unique(roc_labels)) \n",
    "\n",
    "    if np.isin(roc_unique_labels, bc.classes).all() == False:  \n",
    "        continue \n",
    "        \n",
    "    region_classes = np.unique(roc_labels)  \n",
    "    \n",
    "    pred = bc.model.predict(roc) \n",
    "    acc = accuracy_score(roc_labels, pred)\n",
    "    \n",
    "    test_pred = bc.model.predict(test_sample) \n",
    "    test_prob = bc.model.predict_proba(test_sample) \n",
    "    test_prob = round(test_prob.max(), 2) \n",
    "    \n",
    "    print (pred, round(acc, 3), test_pred, test_prob,  bc.classes)\n",
    "\n",
    "    votes[test_pred[0]] += (acc * test_prob) "
   ]
  },
  {
   "cell_type": "code",
   "execution_count": 16,
   "id": "147944a6-bc3a-44ec-9ef9-a85dab5f13ee",
   "metadata": {},
   "outputs": [
    {
     "data": {
      "text/plain": [
       "{0: 0,\n",
       " 1: 0,\n",
       " 2: 0.405,\n",
       " 3: 0.7270000000000001,\n",
       " 4: 0,\n",
       " 5: 0,\n",
       " 6: 0,\n",
       " 7: 0,\n",
       " 8: 0,\n",
       " 9: 0}"
      ]
     },
     "execution_count": 16,
     "metadata": {},
     "output_type": "execute_result"
    }
   ],
   "source": [
    "votes"
   ]
  },
  {
   "cell_type": "code",
   "execution_count": 17,
   "id": "d246fad6-3539-4f99-a7a4-c94a90b77853",
   "metadata": {},
   "outputs": [
    {
     "data": {
      "text/plain": [
       "3"
      ]
     },
     "execution_count": 17,
     "metadata": {},
     "output_type": "execute_result"
    }
   ],
   "source": [
    "max(votes, key=votes.get) "
   ]
  },
  {
   "cell_type": "markdown",
   "id": "d8f5922a-d457-43e1-acc5-8226aa1c8b02",
   "metadata": {},
   "source": [
    "### Merge "
   ]
  },
  {
   "cell_type": "code",
   "execution_count": 18,
   "id": "5600794f-d6cd-4731-b910-8efe7468fb00",
   "metadata": {},
   "outputs": [
    {
     "name": "stderr",
     "output_type": "stream",
     "text": [
      "100%|█████████████████████████████████████████| 800/800 [00:26<00:00, 30.76it/s]\n"
     ]
    }
   ],
   "source": [
    "k = 10\n",
    "nbrs = NearestNeighbors(n_neighbors=k, metric='minkowski').fit(X_dsel)  \n",
    "\n",
    "def get_region_of_competence(nbrs, query): \n",
    "    indices = nbrs.kneighbors(query, return_distance=False)\n",
    "    roc = X_dsel.iloc[indices[0]]\n",
    "    roc_labels = y_dsel[indices[0]]\n",
    "\n",
    "    return roc, roc_labels \n",
    "\n",
    "test_preds = [] \n",
    "\n",
    "for j in tqdm(range(len(y_test))): \n",
    "    index = j\n",
    "    test_sample = X_test.iloc[[index]]\n",
    "    \n",
    "    roc, roc_labels = get_region_of_competence(nbrs, test_sample)\n",
    "\n",
    "    votes = {}\n",
    "\n",
    "    for i in range(n_classes): \n",
    "        votes[i] = 0 \n",
    "    \n",
    "    for bc in pool:\n",
    "        roc_unique_labels = list(np.unique(roc_labels)) \n",
    "\n",
    "        if np.isin(roc_unique_labels, bc.classes).all() == False:  \n",
    "            continue \n",
    "            \n",
    "        pred = bc.model.predict(roc) \n",
    "        acc = accuracy_score(roc_labels, pred)\n",
    "        test_pred = bc.model.predict(test_sample) \n",
    "        test_prob = bc.model.predict_proba(test_sample) \n",
    "        test_prob = test_prob.max()\n",
    "        \n",
    "        votes[test_pred[0]] += (acc * test_prob) \n",
    "\n",
    "    \n",
    "    final = max(votes, key=votes.get)  \n",
    "\n",
    "    test_preds.append(final)"
   ]
  },
  {
   "cell_type": "code",
   "execution_count": 19,
   "id": "61bab3e8-502f-4864-b3a7-dce2eb97300b",
   "metadata": {},
   "outputs": [
    {
     "data": {
      "text/plain": [
       "0.69875"
      ]
     },
     "execution_count": 19,
     "metadata": {},
     "output_type": "execute_result"
    }
   ],
   "source": [
    "accuracy_score(y_test, test_preds)"
   ]
  },
  {
   "cell_type": "code",
   "execution_count": 20,
   "id": "6bdab28c-570d-4aad-8772-88ff9e716b22",
   "metadata": {},
   "outputs": [
    {
     "data": {
      "text/plain": [
       "<sklearn.metrics._plot.confusion_matrix.ConfusionMatrixDisplay at 0x167615670>"
      ]
     },
     "execution_count": 20,
     "metadata": {},
     "output_type": "execute_result"
    },
    {
     "data": {
      "image/png": "[encoded data removed]",
      "text/plain": [
       "<Figure size 640x480 with 2 Axes>"
      ]
     },
     "metadata": {},
     "output_type": "display_data"
    }
   ],
   "source": [
    "import matplotlib.pyplot as plt\n",
    "import seaborn as sns\n",
    "from sklearn.metrics import confusion_matrix, ConfusionMatrixDisplay\n",
    "\n",
    "# Create confusion matrix\n",
    "cm = confusion_matrix(y_test, test_preds)\n",
    "\n",
    "disp = ConfusionMatrixDisplay(confusion_matrix=cm, display_labels=votes.keys())\n",
    "disp.plot()"
   ]
  },
  {
   "cell_type": "code",
   "execution_count": 21,
   "id": "b871e8ac-526d-4593-8fb4-2e160f92ccbc",
   "metadata": {},
   "outputs": [
    {
     "data": {
      "text/plain": [
       "<sklearn.metrics._plot.confusion_matrix.ConfusionMatrixDisplay at 0x167615ac0>"
      ]
     },
     "execution_count": 21,
     "metadata": {},
     "output_type": "execute_result"
    },
    {
     "data": {
      "image/png": "[encoded data removed]",
      "text/plain": [
       "<Figure size 640x480 with 2 Axes>"
      ]
     },
     "metadata": {},
     "output_type": "display_data"
    }
   ],
   "source": [
    "cm = confusion_matrix(y_test, y_test)\n",
    "\n",
    "disp = ConfusionMatrixDisplay(confusion_matrix=cm, display_labels=votes.keys())\n",
    "disp.plot()"
   ]
  },
  {
   "cell_type": "markdown",
   "id": "1e0d0dd3-f398-442a-8ca8-31196c942608",
   "metadata": {},
   "source": [
    "### Compare "
   ]
  },
  {
   "cell_type": "code",
   "execution_count": 22,
   "id": "d1838815-3d1d-427b-9d48-8f43093206bc",
   "metadata": {},
   "outputs": [],
   "source": [
    "pool_classifiers = [\n",
    "    XGBClassifier(random_state=42),  # 0 \n",
    "    MLPClassifier(random_state=42),  # 1 \n",
    "    KNeighborsClassifier(),          # 2 \n",
    "    RandomForestClassifier(random_state=42),  # 3 \n",
    "    LogisticRegression(random_state=42),      # 4 \n",
    "    SVC(probability=True, random_state=42),   # 5 \n",
    "    # DecisionTreeClassifier(random_state=42),  # 6 \n",
    "    LGBMClassifier(random_state=42, verbose=-1), # 7  \n",
    "]"
   ]
  },
  {
   "cell_type": "code",
   "execution_count": 23,
   "id": "6a9a72db-1310-4739-8f8b-123fb3b22ec5",
   "metadata": {},
   "outputs": [],
   "source": [
    "for cls in pool_classifiers: \n",
    "    cls.fit(X_train, y_train)"
   ]
  },
  {
   "cell_type": "code",
   "execution_count": 24,
   "id": "42adb7b7-54a3-4010-b440-260644487e42",
   "metadata": {},
   "outputs": [
    {
     "name": "stdout",
     "output_type": "stream",
     "text": [
      "XGBClassifier(base_score=None, booster=None, callbacks=None,\n",
      "              colsample_bylevel=None, colsample_bynode=None,\n",
      "              colsample_bytree=None, device=None, early_stopping_rounds=None,\n",
      "              enable_categorical=False, eval_metric=None, feature_types=None,\n",
      "              gamma=None, grow_policy=None, importance_type=None,\n",
      "              interaction_constraints=None, learning_rate=None, max_bin=None,\n",
      "              max_cat_threshold=None, max_cat_to_onehot=None,\n",
      "              max_delta_step=None, max_depth=None, max_leaves=None,\n",
      "              min_child_weight=None, missing=nan, monotone_constraints=None,\n",
      "              multi_strategy=None, n_estimators=None, n_jobs=None,\n",
      "              num_parallel_tree=None, objective='multi:softprob', ...) 0.6525\n",
      "MLPClassifier(random_state=42) 0.69125\n",
      "KNeighborsClassifier() 0.54625\n",
      "RandomForestClassifier(random_state=42) 0.6825\n",
      "LogisticRegression(random_state=42) 0.7025\n",
      "SVC(probability=True, random_state=42) 0.69\n",
      "LGBMClassifier(random_state=42, verbose=-1) 0.6475\n"
     ]
    }
   ],
   "source": [
    "for cls in pool_classifiers: \n",
    "    acc = cls.score(X_test, y_test) \n",
    "    print(cls, acc)"
   ]
  },
  {
   "cell_type": "code",
   "execution_count": 25,
   "id": "286c74f7-ebe4-4e55-b742-4b0a35ecd98c",
   "metadata": {},
   "outputs": [
    {
     "name": "stdout",
     "output_type": "stream",
     "text": [
      "Accuracy: 0.67875\n"
     ]
    }
   ],
   "source": [
    "from deslib.des.knora_e import KNORAE \n",
    "\n",
    "knorae = KNORAE(pool_classifiers, k=10, knn_metric='minkowski')\n",
    "\n",
    "# Preprocess the Dynamic Selection dataset (DSEL)\n",
    "knorae.fit(X_dsel, y_dsel)\n",
    "\n",
    "# Predict new examples:\n",
    "accuracy = knorae.score(X_test, y_test)\n",
    "print(f'Accuracy: {accuracy:.5f}') "
   ]
  },
  {
   "cell_type": "code",
   "execution_count": 26,
   "id": "d7563838-bf99-4905-8a14-2c247a35c64e",
   "metadata": {},
   "outputs": [
    {
     "name": "stdout",
     "output_type": "stream",
     "text": [
      "Accuracy: 0.68000\n"
     ]
    }
   ],
   "source": [
    "from deslib.des.meta_des import METADES \n",
    "\n",
    "metades = METADES(pool_classifiers, k=10, knn_metric='minkowski')\n",
    "\n",
    "# Preprocess the Dynamic Selection dataset (DSEL)\n",
    "metades.fit(X_dsel, y_dsel)\n",
    "\n",
    "# Predict new examples:\n",
    "accuracy = metades.score(X_test, y_test)\n",
    "print(f'Accuracy: {accuracy:.5f}') "
   ]
  },
  {
   "cell_type": "code",
   "execution_count": 27,
   "id": "d97241e0-021f-403f-8e3f-34b552bdc40a",
   "metadata": {},
   "outputs": [
    {
     "name": "stdout",
     "output_type": "stream",
     "text": [
      "Accuracy: 0.69375\n"
     ]
    }
   ],
   "source": [
    "from deslib.des.knop import KNOP \n",
    "\n",
    "knop = KNOP(pool_classifiers, k=10)\n",
    "\n",
    "# Preprocess the Dynamic Selection dataset (DSEL)\n",
    "knop.fit(X_dsel, y_dsel)\n",
    "\n",
    "# Predict new examples:\n",
    "accuracy = knop.score(X_test, y_test)\n",
    "print(f'Accuracy: {accuracy:.5f}') "
   ]
  },
  {
   "cell_type": "code",
   "execution_count": 28,
   "id": "e8f22d61-1761-43f8-a095-d59730ae6a91",
   "metadata": {},
   "outputs": [
    {
     "name": "stdout",
     "output_type": "stream",
     "text": [
      "Accuracy: 0.69375\n"
     ]
    }
   ],
   "source": [
    "from deslib.des.knora_u import KNORAU \n",
    "\n",
    "knop = KNOP(pool_classifiers, k=10)\n",
    "\n",
    "# Preprocess the Dynamic Selection dataset (DSEL)\n",
    "knop.fit(X_dsel, y_dsel)\n",
    "\n",
    "# Predict new examples:\n",
    "accuracy = knop.score(X_test, y_test)\n",
    "print(f'Accuracy: {accuracy:.5f}') "
   ]
  },
  {
   "cell_type": "code",
   "execution_count": 407,
   "id": "675d5b6a-5222-4b17-b08b-a4a9e247ee44",
   "metadata": {},
   "outputs": [
    {
     "data": {
      "text/plain": [
       "<sklearn.metrics._plot.confusion_matrix.ConfusionMatrixDisplay at 0x323bfc3d0>"
      ]
     },
     "execution_count": 407,
     "metadata": {},
     "output_type": "execute_result"
    },
    {
     "data": {
      "image/png": "[encoded data removed]",
      "text/plain": [
       "<Figure size 640x480 with 2 Axes>"
      ]
     },
     "metadata": {},
     "output_type": "display_data"
    }
   ],
   "source": [
    "y_pred = knop.predict(X_test)\n",
    "\n",
    "cm = confusion_matrix(y_test, y_pred)\n",
    "\n",
    "disp = ConfusionMatrixDisplay(confusion_matrix=cm, display_labels=votes.keys())\n",
    "disp.plot()"
   ]
  },
  {
   "cell_type": "markdown",
   "id": "703a46f9-0ad3-4081-9467-6e996ac55a72",
   "metadata": {},
   "source": [
    "### Benchmark "
   ]
  },
  {
   "cell_type": "code",
   "execution_count": 29,
   "id": "460063b5-cc9c-4f18-bdc5-d8281ec2688a",
   "metadata": {},
   "outputs": [],
   "source": [
    "from pmlb import fetch_data\n",
    "from sklearn.preprocessing import LabelEncoder  \n",
    "\n",
    "# Returns NumPy arrays\n",
    "data = fetch_data('led24', return_X_y=False, local_cache_dir='./')\n",
    "\n",
    "X = data.drop(['target'], axis=1) \n",
    "y = data.target\n",
    "\n",
    "le = LabelEncoder()\n",
    "y = le.fit_transform(y)"
   ]
  },
  {
   "cell_type": "code",
   "execution_count": 30,
   "id": "730e5f64-49d4-4765-bb6a-bc2e98b44c8d",
   "metadata": {},
   "outputs": [],
   "source": [
    "seeds = [10, 42, 45, 52, 56, 72, 84, 91, 93, 99] \n",
    "\n",
    "BaseClassifier = namedtuple('BaseClassifier', ['name', 'model', 'classes']) "
   ]
  },
  {
   "cell_type": "code",
   "execution_count": 31,
   "id": "186f6c16-e16e-4868-98e2-c9fced676543",
   "metadata": {},
   "outputs": [],
   "source": [
    "def get_region_of_competence(nbrs, query): \n",
    "    indices = nbrs.kneighbors(query, return_distance=False)\n",
    "    roc = X_dsel.iloc[indices[0]]\n",
    "    roc_labels = y_dsel[indices[0]]\n",
    "\n",
    "    return roc, roc_labels\n",
    "\n",
    "\n",
    "def train(train_data, pool): \n",
    "    for bc in pool: \n",
    "        partial_train_data = train_data[train_data.target.isin(bc.classes)] \n",
    "        X = partial_train_data.drop(['target'], axis=1) \n",
    "        y = partial_train_data['target'] \n",
    "\n",
    "        bc.model.fit(X, y)\n",
    "\n",
    "    return pool "
   ]
  },
  {
   "cell_type": "code",
   "execution_count": 37,
   "id": "34b9102d-11f5-4810-8968-753e5dd45bf1",
   "metadata": {},
   "outputs": [
    {
     "name": "stderr",
     "output_type": "stream",
     "text": [
      "100%|█████████████████████████████████████████| 800/800 [00:19<00:00, 40.18it/s]\n",
      "100%|█████████████████████████████████████████| 800/800 [00:19<00:00, 40.61it/s]\n",
      "100%|█████████████████████████████████████████| 800/800 [00:21<00:00, 37.71it/s]\n",
      "100%|█████████████████████████████████████████| 800/800 [00:19<00:00, 40.18it/s]\n",
      "100%|█████████████████████████████████████████| 800/800 [00:20<00:00, 38.59it/s]\n",
      "100%|█████████████████████████████████████████| 800/800 [00:22<00:00, 36.03it/s]\n",
      "100%|█████████████████████████████████████████| 800/800 [00:21<00:00, 36.68it/s]\n",
      "100%|█████████████████████████████████████████| 800/800 [00:19<00:00, 41.44it/s]\n",
      "100%|█████████████████████████████████████████| 800/800 [00:20<00:00, 39.37it/s]\n",
      "100%|█████████████████████████████████████████| 800/800 [00:19<00:00, 40.90it/s]\n"
     ]
    }
   ],
   "source": [
    "benchmark_scores = []\n",
    "\n",
    "for seed in seeds: \n",
    "    pool = [\n",
    "        BaseClassifier('LR', LogisticRegression(random_state=42),                            [0, 1, 2, 3, 4, 5, 6, 7, 8, 9]),\n",
    "        BaseClassifier('RF', RandomForestClassifier(random_state=42),                        [0, 1, 2, 3, 4, 5, 6, 7, 8, 9]),\n",
    "        \n",
    "        BaseClassifier('RF', RandomForestClassifier(random_state=42),                        [0, 4, 5, 6, 8, 9]), \n",
    "        BaseClassifier('RF', RandomForestClassifier(random_state=42),                        [0, 2, 3, 8]),\n",
    "        BaseClassifier('RF', RandomForestClassifier(random_state=42),                        [1, 3, 4, 7, 9]),\n",
    "        BaseClassifier('RF', RandomForestClassifier(random_state=42),                        [0, 2, 3, 5, 8]),\n",
    "        BaseClassifier('RF', RandomForestClassifier(random_state=42),                        [0, 1, 3, 7, 8, 9]),\n",
    "        BaseClassifier('RF', RandomForestClassifier(random_state=42),                        [3, 5, 6, 9]), \n",
    "    ] \n",
    "    \n",
    "    X_train, X_test, y_train, y_test = train_test_split(X, y, test_size=0.25, random_state=seed)   \n",
    "    X_train, X_dsel, y_train, y_dsel = train_test_split(X_train, y_train, test_size=0.30, random_state=42)  \n",
    "\n",
    "    k = 10\n",
    "    nbrs = NearestNeighbors(n_neighbors=k, metric='minkowski').fit(X_dsel) \n",
    "\n",
    "    train_data = X_train[:]\n",
    "    train_data['target'] = y_train \n",
    "    \n",
    "    pool = train(train_data, pool) \n",
    "    \n",
    "    test_preds = []  \n",
    "\n",
    "    for j in tqdm(range(len(y_test))): \n",
    "        index = j\n",
    "        test_sample = X_test.iloc[[index]] \n",
    "\n",
    "        roc, roc_labels = get_region_of_competence(nbrs, test_sample)\n",
    "\n",
    "        votes = {}\n",
    "    \n",
    "        for i in range(n_classes): \n",
    "            votes[i] = 0 \n",
    "        \n",
    "        for bc in pool:\n",
    "            roc_unique_labels = list(np.unique(roc_labels)) \n",
    "    \n",
    "            if np.isin(roc_unique_labels, bc.classes).all() == False:  \n",
    "                continue \n",
    "                \n",
    "            pred = bc.model.predict(roc) \n",
    "            acc = accuracy_score(roc_labels, pred)\n",
    "            test_pred = bc.model.predict(test_sample) \n",
    "            test_prob = bc.model.predict_proba(test_sample) \n",
    "            test_prob = test_prob.max()\n",
    "            \n",
    "            votes[test_pred[0]] += (acc * test_prob) \n",
    "    \n",
    "        \n",
    "        final_prediction = max(votes, key=votes.get)  \n",
    "    \n",
    "        test_preds.append(final_prediction)\n",
    "\n",
    "    # Score \n",
    "    accuracy = accuracy_score(y_test, test_preds) \n",
    "\n",
    "    benchmark_scores.append(accuracy)"
   ]
  },
  {
   "cell_type": "code",
   "execution_count": 38,
   "id": "35ceed1c-bc18-4a6c-bb17-104373f4d94d",
   "metadata": {},
   "outputs": [
    {
     "data": {
      "text/plain": [
       "[0.72125,\n",
       " 0.7325,\n",
       " 0.74125,\n",
       " 0.725,\n",
       " 0.74125,\n",
       " 0.73375,\n",
       " 0.7425,\n",
       " 0.72875,\n",
       " 0.71875,\n",
       " 0.6975]"
      ]
     },
     "execution_count": 38,
     "metadata": {},
     "output_type": "execute_result"
    }
   ],
   "source": [
    "benchmark_scores"
   ]
  },
  {
   "cell_type": "code",
   "execution_count": 34,
   "id": "75be04df-f8dd-48bb-9d83-c875ffd52c71",
   "metadata": {},
   "outputs": [
    {
     "name": "stderr",
     "output_type": "stream",
     "text": [
      "100%|███████████████████████████████████████████| 10/10 [01:22<00:00,  8.29s/it]\n"
     ]
    }
   ],
   "source": [
    "from deslib.des.knora_e import KNORAE  \n",
    "from deslib.des.knora_u import KNORAU \n",
    "from deslib.des.knop import KNOP  \n",
    "from deslib.des.meta_des import METADES \n",
    "from deslib.des.des_knn import DESKNN \n",
    "\n",
    "benchmark_matrix = {\n",
    "    \"knorae\": [], \n",
    "    \"knorau\": [], \n",
    "    \"metades\": [], \n",
    "    \"knop\": [], \n",
    "    \"desknn\": []\n",
    "}\n",
    "\n",
    "\n",
    "for seed in tqdm(seeds): \n",
    "    pool_classifiers = [\n",
    "        XGBClassifier(random_state=42),  # 0 \n",
    "        MLPClassifier(random_state=42),  # 1 \n",
    "        KNeighborsClassifier(),          # 2 \n",
    "        RandomForestClassifier(random_state=42),  # 3 \n",
    "        LogisticRegression(random_state=42),      # 4 \n",
    "        SVC(probability=True, random_state=42),   # 5 \n",
    "        DecisionTreeClassifier(random_state=42),  # 6 \n",
    "        LGBMClassifier(random_state=42, verbose=-1), # 7  \n",
    "    ] \n",
    "\n",
    "    X_train, X_test, y_train, y_test = train_test_split(X, y, test_size=0.25, random_state=seed)   \n",
    "    X_train, X_dsel, y_train, y_dsel = train_test_split(X_train, y_train, test_size=0.30, random_state=42) \n",
    "\n",
    "    for cls in pool_classifiers: \n",
    "        cls.fit(X_train, y_train)\n",
    "\n",
    "    knorae = KNORAE(pool_classifiers, k=10, knn_metric='minkowski')\n",
    "    knorau = KNORAU(pool_classifiers, k=10, knn_metric='minkowski')\n",
    "    metades = METADES(pool_classifiers, k=10, knn_metric='minkowski')\n",
    "    knop = KNOP(pool_classifiers, k=10) \n",
    "    desknn = DESKNN(pool_classifiers, k=10, knn_metric='minkowski')\n",
    "    \n",
    "    # Preprocess the Dynamic Selection dataset (DSEL)\n",
    "    knorae.fit(X_dsel, y_dsel)\n",
    "    knorau.fit(X_dsel, y_dsel)\n",
    "    metades.fit(X_dsel, y_dsel)\n",
    "    knop.fit(X_dsel, y_dsel)\n",
    "    desknn.fit(X_dsel, y_dsel)\n",
    "    \n",
    "    # Predict new examples:\n",
    "    benchmark_matrix['knorae'].append(knorae.score(X_test, y_test))\n",
    "    benchmark_matrix['knorau'].append(knorau.score(X_test, y_test))\n",
    "    benchmark_matrix['metades'].append(metades.score(X_test, y_test))\n",
    "    benchmark_matrix['knop'].append(knop.score(X_test, y_test))\n",
    "    benchmark_matrix['desknn'].append(desknn.score(X_test, y_test))"
   ]
  },
  {
   "cell_type": "code",
   "execution_count": 39,
   "id": "925c32f4-13ce-4937-80ed-5f8644ffca6a",
   "metadata": {},
   "outputs": [
    {
     "data": {
      "text/plain": [
       "0.72825"
      ]
     },
     "execution_count": 39,
     "metadata": {},
     "output_type": "execute_result"
    }
   ],
   "source": [
    "np.average(benchmark_scores)"
   ]
  },
  {
   "cell_type": "code",
   "execution_count": 36,
   "id": "b6c4999d-c2b7-4701-bfc2-4e1b1be2996c",
   "metadata": {},
   "outputs": [
    {
     "name": "stdout",
     "output_type": "stream",
     "text": [
      "knorae 0.707\n",
      "knorau 0.724\n",
      "knop 0.726\n",
      "metades 0.711\n",
      "desknn 0.721\n"
     ]
    }
   ],
   "source": [
    "techniques = ['knorae', 'knorau', 'knop', 'metades', 'desknn'] \n",
    "\n",
    "for tech in techniques: \n",
    "    print(tech, round(np.average(benchmark_matrix[tech]), 3) )"
   ]
  },
  {
   "cell_type": "code",
   "execution_count": null,
   "id": "db7899ac-acc8-42c9-9193-e5fa37ce73cc",
   "metadata": {},
   "outputs": [],
   "source": []
  },
  {
   "cell_type": "code",
   "execution_count": null,
   "id": "7e38739b-047b-412d-a0b2-c634ee8e2a97",
   "metadata": {},
   "outputs": [],
   "source": []
  }
 ],
 "metadata": {
  "kernelspec": {
   "display_name": "Python 3 (ipykernel)",
   "language": "python",
   "name": "python3"
  },
  "language_info": {
   "codemirror_mode": {
    "name": "ipython",
    "version": 3
   },
   "file_extension": ".py",
   "mimetype": "text/x-python",
   "name": "python",
   "nbconvert_exporter": "python",
   "pygments_lexer": "ipython3",
   "version": "3.9.18"
  }
 },
 "nbformat": 4,
 "nbformat_minor": 5
}
